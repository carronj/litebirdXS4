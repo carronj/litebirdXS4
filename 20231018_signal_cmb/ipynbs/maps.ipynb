{
 "cells": [
  {
   "cell_type": "code",
   "execution_count": 56,
   "id": "d1257e17-0452-4fc8-ad3e-18e1084ad4fb",
   "metadata": {},
   "outputs": [],
   "source": [
    "import numpy as np\n",
    "import healpy as hp\n",
    "import pylab as pl\n",
    "\n",
    "try:\n",
    "    import maps\n",
    "    import util_cmb\n",
    "except:\n",
    "    import sys #\n",
    "    if '..' not in sys.path:\n",
    "        sys.path.insert(0, '..')\n",
    "    import maps\n",
    "    import util_cmb\n",
    "\n",
    "# Example getting a LiteBird map:\n",
    "\n",
    "simulation_index = 0 # there are 500 sims from 0 to 499\n",
    "litebird_band = 'L1-060'\n",
    "T = maps.get_lb_map(litebird_band, simulation_index, job='T') # Other 'jobs' can be 'QU' or 'TQU'\n",
    "hp.mollview(T[0])"
   ]
  },
  {
   "cell_type": "code",
   "execution_count": null,
   "outputs": [],
   "source": [
    "# Possible band inputs are:\n",
    "print('List of LiteBird bands:')\n",
    "print(maps.lb['tag'])\n",
    "\n",
    "print('List of S4 bands:')\n",
    "print(maps.s4['band'])"
   ],
   "metadata": {
    "collapsed": false
   },
   "id": "7bdb01335257d735"
  },
  {
   "cell_type": "code",
   "execution_count": null,
   "outputs": [],
   "source": [
    "# Same for a S4 map:\n",
    "band = 'SPLAT_f150'\n",
    "lmax = 3000\n",
    "job = 'TQU'\n",
    "simulation_index = 0 # there are 500 sims from 0 to 499\n",
    "\n",
    "\n",
    "TQU = maps.get_s4_map(band, simulation_index, job=job)\n",
    "\n",
    "ls = np.arange(2, lmax + 1)\n",
    "\n",
    "_, cl_len,_ = util_cmb.get_cls()  # NB the lensed Cls here are the predictions without the cut at lmax 5120\n",
    "\n",
    "if 'T' in job:\n",
    "    T = hp.map2alm(TQU[0], lmax=lmax, iter=0)\n",
    "    pl.loglog(ls, hp.alm2cl(T)[ls], label='TT')\n",
    "    pl.plot(ls, cl_len['tt'][ls], c='k')\n",
    "\n",
    "if 'QU' in job:\n",
    "    EB = hp.map2alm_spin(TQU[1:], 2, lmax)\n",
    "\n",
    "    pl.loglog(ls, hp.alm2cl(EB)[0][ls], label='EE')\n",
    "    pl.loglog(ls, hp.alm2cl(EB)[1][ls], label='BB')\n",
    "    pl.plot(ls, cl_len['ee'][ls], c='k')\n",
    "    pl.plot(ls, cl_len['bb'][ls], c='k')\n",
    "\n",
    "pl.title(band)\n",
    "pl.legend()"
   ],
   "metadata": {
    "collapsed": false
   },
   "id": "4e637faa8957ece3"
  }
 ],
 "metadata": {
  "kernelspec": {
   "display_name": "Python 3 (ipykernel)",
   "language": "python",
   "name": "python3"
  },
  "language_info": {
   "codemirror_mode": {
    "name": "ipython",
    "version": 3
   },
   "file_extension": ".py",
   "mimetype": "text/x-python",
   "name": "python",
   "nbconvert_exporter": "python",
   "pygments_lexer": "ipython3",
   "version": "3.9.17"
  }
 },
 "nbformat": 4,
 "nbformat_minor": 5
}
